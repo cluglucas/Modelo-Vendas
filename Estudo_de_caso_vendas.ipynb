{
  "nbformat": 4,
  "nbformat_minor": 0,
  "metadata": {
    "colab": {
      "name": "Estudo-de-caso-vendas.ipynb",
      "provenance": [],
      "collapsed_sections": [],
      "mount_file_id": "1PqTsNy6Iawu4uglvh-903xM_r2P6znLa",
      "authorship_tag": "ABX9TyPi6SSkrj6VJ9hOFlUO7twH",
      "include_colab_link": true
    },
    "kernelspec": {
      "name": "python3",
      "display_name": "Python 3"
    },
    "language_info": {
      "name": "python"
    }
  },
  "cells": [
    {
      "cell_type": "markdown",
      "metadata": {
        "id": "view-in-github",
        "colab_type": "text"
      },
      "source": [
        "<a href=\"https://colab.research.google.com/github/cluglucas/Modelo-Vendas/blob/main/Estudo_de_caso_vendas.ipynb\" target=\"_parent\"><img src=\"https://colab.research.google.com/assets/colab-badge.svg\" alt=\"Open In Colab\"/></a>"
      ]
    },
    {
      "cell_type": "markdown",
      "metadata": {
        "id": "-XJ9j04gK7Tk"
      },
      "source": [
        "# Estudo de caso: modelo de previsão de vendas baseado no gasto de propagandas em determinado meio de comunicação\n",
        "\n",
        "A base de dados fornece o gasto por mês em propagandas em 3 tipos de meio de comunicação e as cendas do respectivo mês."
      ]
    },
    {
      "cell_type": "markdown",
      "metadata": {
        "id": "DCPakpyKL6R6"
      },
      "source": [
        "## Importação da base"
      ]
    },
    {
      "cell_type": "code",
      "metadata": {
        "colab": {
          "base_uri": "https://localhost:8080/",
          "height": 419
        },
        "id": "qHjye-vEyp5Z",
        "outputId": "e91e6671-647b-414e-e35e-d21d1e3a3669"
      },
      "source": [
        "import pandas as pd\n",
        "\n",
        "df=pd.read_csv('https://raw.githubusercontent.com/cluglucas/Modelo-Vendas/main/advertising.csv')\n",
        "display(df)"
      ],
      "execution_count": 19,
      "outputs": [
        {
          "output_type": "display_data",
          "data": {
            "text/html": [
              "<div>\n",
              "<style scoped>\n",
              "    .dataframe tbody tr th:only-of-type {\n",
              "        vertical-align: middle;\n",
              "    }\n",
              "\n",
              "    .dataframe tbody tr th {\n",
              "        vertical-align: top;\n",
              "    }\n",
              "\n",
              "    .dataframe thead th {\n",
              "        text-align: right;\n",
              "    }\n",
              "</style>\n",
              "<table border=\"1\" class=\"dataframe\">\n",
              "  <thead>\n",
              "    <tr style=\"text-align: right;\">\n",
              "      <th></th>\n",
              "      <th>TV</th>\n",
              "      <th>Radio</th>\n",
              "      <th>Jornal</th>\n",
              "      <th>Vendas</th>\n",
              "    </tr>\n",
              "  </thead>\n",
              "  <tbody>\n",
              "    <tr>\n",
              "      <th>0</th>\n",
              "      <td>230.1</td>\n",
              "      <td>37.8</td>\n",
              "      <td>69.2</td>\n",
              "      <td>22.1</td>\n",
              "    </tr>\n",
              "    <tr>\n",
              "      <th>1</th>\n",
              "      <td>44.5</td>\n",
              "      <td>39.3</td>\n",
              "      <td>45.1</td>\n",
              "      <td>10.4</td>\n",
              "    </tr>\n",
              "    <tr>\n",
              "      <th>2</th>\n",
              "      <td>17.2</td>\n",
              "      <td>45.9</td>\n",
              "      <td>69.3</td>\n",
              "      <td>12.0</td>\n",
              "    </tr>\n",
              "    <tr>\n",
              "      <th>3</th>\n",
              "      <td>151.5</td>\n",
              "      <td>41.3</td>\n",
              "      <td>58.5</td>\n",
              "      <td>16.5</td>\n",
              "    </tr>\n",
              "    <tr>\n",
              "      <th>4</th>\n",
              "      <td>180.8</td>\n",
              "      <td>10.8</td>\n",
              "      <td>58.4</td>\n",
              "      <td>17.9</td>\n",
              "    </tr>\n",
              "    <tr>\n",
              "      <th>...</th>\n",
              "      <td>...</td>\n",
              "      <td>...</td>\n",
              "      <td>...</td>\n",
              "      <td>...</td>\n",
              "    </tr>\n",
              "    <tr>\n",
              "      <th>195</th>\n",
              "      <td>38.2</td>\n",
              "      <td>3.7</td>\n",
              "      <td>13.8</td>\n",
              "      <td>7.6</td>\n",
              "    </tr>\n",
              "    <tr>\n",
              "      <th>196</th>\n",
              "      <td>94.2</td>\n",
              "      <td>4.9</td>\n",
              "      <td>8.1</td>\n",
              "      <td>14.0</td>\n",
              "    </tr>\n",
              "    <tr>\n",
              "      <th>197</th>\n",
              "      <td>177.0</td>\n",
              "      <td>9.3</td>\n",
              "      <td>6.4</td>\n",
              "      <td>14.8</td>\n",
              "    </tr>\n",
              "    <tr>\n",
              "      <th>198</th>\n",
              "      <td>283.6</td>\n",
              "      <td>42.0</td>\n",
              "      <td>66.2</td>\n",
              "      <td>25.5</td>\n",
              "    </tr>\n",
              "    <tr>\n",
              "      <th>199</th>\n",
              "      <td>232.1</td>\n",
              "      <td>8.6</td>\n",
              "      <td>8.7</td>\n",
              "      <td>18.4</td>\n",
              "    </tr>\n",
              "  </tbody>\n",
              "</table>\n",
              "<p>200 rows × 4 columns</p>\n",
              "</div>"
            ],
            "text/plain": [
              "        TV  Radio  Jornal  Vendas\n",
              "0    230.1   37.8    69.2    22.1\n",
              "1     44.5   39.3    45.1    10.4\n",
              "2     17.2   45.9    69.3    12.0\n",
              "3    151.5   41.3    58.5    16.5\n",
              "4    180.8   10.8    58.4    17.9\n",
              "..     ...    ...     ...     ...\n",
              "195   38.2    3.7    13.8     7.6\n",
              "196   94.2    4.9     8.1    14.0\n",
              "197  177.0    9.3     6.4    14.8\n",
              "198  283.6   42.0    66.2    25.5\n",
              "199  232.1    8.6     8.7    18.4\n",
              "\n",
              "[200 rows x 4 columns]"
            ]
          },
          "metadata": {
            "tags": []
          }
        }
      ]
    },
    {
      "cell_type": "markdown",
      "metadata": {
        "id": "6WslbeBTLaZL"
      },
      "source": [
        "Observa-se que o gasto em propaganda está na casa dos milhares e as vendas na casa dos milhões pois não faria sentido caso estivessem na mesma medida."
      ]
    },
    {
      "cell_type": "code",
      "metadata": {
        "colab": {
          "base_uri": "https://localhost:8080/"
        },
        "id": "6A-ooWfF0Ant",
        "outputId": "8d48d135-cecb-4764-fa68-f00038d7f21a"
      },
      "source": [
        "df.info()"
      ],
      "execution_count": 3,
      "outputs": [
        {
          "output_type": "stream",
          "text": [
            "<class 'pandas.core.frame.DataFrame'>\n",
            "RangeIndex: 200 entries, 0 to 199\n",
            "Data columns (total 4 columns):\n",
            " #   Column  Non-Null Count  Dtype  \n",
            "---  ------  --------------  -----  \n",
            " 0   TV      200 non-null    float64\n",
            " 1   Radio   200 non-null    float64\n",
            " 2   Jornal  200 non-null    float64\n",
            " 3   Vendas  200 non-null    float64\n",
            "dtypes: float64(4)\n",
            "memory usage: 6.4 KB\n"
          ],
          "name": "stdout"
        }
      ]
    },
    {
      "cell_type": "markdown",
      "metadata": {
        "id": "VbqOJzZhLtPX"
      },
      "source": [
        "Não é necessária nenhuma alteração na base de dados"
      ]
    },
    {
      "cell_type": "markdown",
      "metadata": {
        "id": "eXkqj8tUL_Dr"
      },
      "source": [
        "## Mapa de calor das correlações entre as categorias da base\n",
        "\n",
        "Atente-se às correlações entre os gastos por meio de comunicação e vendas"
      ]
    },
    {
      "cell_type": "code",
      "metadata": {
        "colab": {
          "base_uri": "https://localhost:8080/",
          "height": 269
        },
        "id": "VdZsF0gR3I3R",
        "outputId": "4fffdd31-291b-4174-b92b-0cb0300b0191"
      },
      "source": [
        "import seaborn as sns\n",
        "import matplotlib.pyplot as plt\n",
        "\n",
        "sns.heatmap(df.corr(), cmap=\"Wistia\", annot=True)\n",
        "plt.show()"
      ],
      "execution_count": 4,
      "outputs": [
        {
          "output_type": "display_data",
          "data": {
            "image/png": "[encoded data removed]",
            "text/plain": [
              "<Figure size 432x288 with 2 Axes>"
            ]
          },
          "metadata": {
            "tags": [],
            "needs_background": "light"
          }
        }
      ]
    },
    {
      "cell_type": "markdown",
      "metadata": {
        "id": "Bcv4-r0WMQzM"
      },
      "source": [
        "## Aplicação dos modelos\n",
        "\n",
        "Foram escolhidos dois modelos a serem implementados: regressão linear e regressão aleatória"
      ]
    },
    {
      "cell_type": "code",
      "metadata": {
        "id": "jTynMXpVDJtN"
      },
      "source": [
        "from sklearn.model_selection import train_test_split\n",
        "\n",
        "x=df.drop('Vendas',axis=1)\n",
        "y=df['Vendas']\n",
        "\n",
        "x_treino, x_teste, y_treino, y_teste = train_test_split(x,y,test_size=0.3)\n"
      ],
      "execution_count": 5,
      "outputs": []
    },
    {
      "cell_type": "code",
      "metadata": {
        "colab": {
          "base_uri": "https://localhost:8080/"
        },
        "id": "J3RWyqbfGhHF",
        "outputId": "7790ee02-c4a9-448c-c818-4b420a40b4cf"
      },
      "source": [
        "from sklearn.linear_model import LinearRegression\n",
        "from sklearn.ensemble import RandomForestRegressor\n",
        "\n",
        "linear=LinearRegression()\n",
        "randomforest=RandomForestRegressor()\n",
        "\n",
        "linear.fit(x_treino, y_treino)\n",
        "randomforest.fit(x_treino, y_treino)"
      ],
      "execution_count": 18,
      "outputs": [
        {
          "output_type": "execute_result",
          "data": {
            "text/plain": [
              "RandomForestRegressor(bootstrap=True, ccp_alpha=0.0, criterion='mse',\n",
              "                      max_depth=None, max_features='auto', max_leaf_nodes=None,\n",
              "                      max_samples=None, min_impurity_decrease=0.0,\n",
              "                      min_impurity_split=None, min_samples_leaf=1,\n",
              "                      min_samples_split=2, min_weight_fraction_leaf=0.0,\n",
              "                      n_estimators=100, n_jobs=None, oob_score=False,\n",
              "                      random_state=None, verbose=0, warm_start=False)"
            ]
          },
          "metadata": {
            "tags": []
          },
          "execution_count": 18
        }
      ]
    },
    {
      "cell_type": "markdown",
      "metadata": {
        "id": "2wh-tUS6M4Kf"
      },
      "source": [
        "## R² e MSE de cada modelo"
      ]
    },
    {
      "cell_type": "code",
      "metadata": {
        "colab": {
          "base_uri": "https://localhost:8080/"
        },
        "id": "66rUbw4dJtMS",
        "outputId": "0f725ea1-1a51-4c04-f938-bb7e261ed6f8"
      },
      "source": [
        "from sklearn import metrics\n",
        "\n",
        "teste_linear = linear.predict(x_teste)\n",
        "teste_random = randomforest.predict(x_teste)\n",
        "\n",
        "r2_linear = metrics.r2_score(y_teste, teste_linear)\n",
        "r2_random = metrics.r2_score(y_teste, teste_random)\n",
        "print('R² do modelo de regressão linear é {}\\nO R² do modelo de regressão aleatória é {}\\n'.format(r2_linear,r2_random))\n",
        "\n",
        "erro_linear = metrics.mean_squared_error(y_teste,teste_linear)\n",
        "erro_random = metrics.mean_squared_error(y_teste,teste_random)\n",
        "print('O MSE do modelo de regressão linear é {}\\nO MSE do modelo de regressão aleatória é {}'.format(erro_linear,erro_random))"
      ],
      "execution_count": 17,
      "outputs": [
        {
          "output_type": "stream",
          "text": [
            "R² do modelo de regressão linear é 0.8243886181674603\n",
            "O R² do modelo de regressão aleatória é 0.9336670804477287\n",
            "\n",
            "O MSE do modelo de regressão linear é 4.479453663985934\n",
            "O MSE do modelo de regressão aleatória é 1.6920044499999962\n"
          ],
          "name": "stdout"
        }
      ]
    },
    {
      "cell_type": "markdown",
      "metadata": {
        "id": "5Li-VgOPM-c0"
      },
      "source": [
        "O Melhor modelo e o que será escolhido é o de regressão aleatória"
      ]
    },
    {
      "cell_type": "markdown",
      "metadata": {
        "id": "uhPq5ErpMpyb"
      },
      "source": [
        "## Tabela de Vendas reais e previsão do melhor modelo"
      ]
    },
    {
      "cell_type": "code",
      "metadata": {
        "colab": {
          "base_uri": "https://localhost:8080/",
          "height": 1000
        },
        "id": "8sIqofrIMO6V",
        "outputId": "cff758ae-1d19-4ede-db37-95ac0e9c9237"
      },
      "source": [
        "df_comparacao=pd.DataFrame()\n",
        "df_comparacao['Vendas Reais']=y_teste\n",
        "df_comparacao['Previsão']=teste_random\n",
        "df_comparacao=df_comparacao.reset_index(drop=True)\n",
        "df_comparacao"
      ],
      "execution_count": 8,
      "outputs": [
        {
          "output_type": "execute_result",
          "data": {
            "text/html": [
              "<div>\n",
              "<style scoped>\n",
              "    .dataframe tbody tr th:only-of-type {\n",
              "        vertical-align: middle;\n",
              "    }\n",
              "\n",
              "    .dataframe tbody tr th {\n",
              "        vertical-align: top;\n",
              "    }\n",
              "\n",
              "    .dataframe thead th {\n",
              "        text-align: right;\n",
              "    }\n",
              "</style>\n",
              "<table border=\"1\" class=\"dataframe\">\n",
              "  <thead>\n",
              "    <tr style=\"text-align: right;\">\n",
              "      <th></th>\n",
              "      <th>Vendas Reais</th>\n",
              "      <th>Previsão</th>\n",
              "    </tr>\n",
              "  </thead>\n",
              "  <tbody>\n",
              "    <tr>\n",
              "      <th>0</th>\n",
              "      <td>8.7</td>\n",
              "      <td>9.039</td>\n",
              "    </tr>\n",
              "    <tr>\n",
              "      <th>1</th>\n",
              "      <td>20.7</td>\n",
              "      <td>19.466</td>\n",
              "    </tr>\n",
              "    <tr>\n",
              "      <th>2</th>\n",
              "      <td>18.0</td>\n",
              "      <td>18.898</td>\n",
              "    </tr>\n",
              "    <tr>\n",
              "      <th>3</th>\n",
              "      <td>12.6</td>\n",
              "      <td>9.517</td>\n",
              "    </tr>\n",
              "    <tr>\n",
              "      <th>4</th>\n",
              "      <td>11.3</td>\n",
              "      <td>10.738</td>\n",
              "    </tr>\n",
              "    <tr>\n",
              "      <th>5</th>\n",
              "      <td>16.6</td>\n",
              "      <td>18.249</td>\n",
              "    </tr>\n",
              "    <tr>\n",
              "      <th>6</th>\n",
              "      <td>16.9</td>\n",
              "      <td>17.093</td>\n",
              "    </tr>\n",
              "    <tr>\n",
              "      <th>7</th>\n",
              "      <td>17.5</td>\n",
              "      <td>16.802</td>\n",
              "    </tr>\n",
              "    <tr>\n",
              "      <th>8</th>\n",
              "      <td>20.7</td>\n",
              "      <td>21.368</td>\n",
              "    </tr>\n",
              "    <tr>\n",
              "      <th>9</th>\n",
              "      <td>16.0</td>\n",
              "      <td>18.456</td>\n",
              "    </tr>\n",
              "    <tr>\n",
              "      <th>10</th>\n",
              "      <td>10.1</td>\n",
              "      <td>9.766</td>\n",
              "    </tr>\n",
              "    <tr>\n",
              "      <th>11</th>\n",
              "      <td>17.2</td>\n",
              "      <td>16.789</td>\n",
              "    </tr>\n",
              "    <tr>\n",
              "      <th>12</th>\n",
              "      <td>16.7</td>\n",
              "      <td>16.129</td>\n",
              "    </tr>\n",
              "    <tr>\n",
              "      <th>13</th>\n",
              "      <td>16.8</td>\n",
              "      <td>17.459</td>\n",
              "    </tr>\n",
              "    <tr>\n",
              "      <th>14</th>\n",
              "      <td>20.6</td>\n",
              "      <td>18.219</td>\n",
              "    </tr>\n",
              "    <tr>\n",
              "      <th>15</th>\n",
              "      <td>17.7</td>\n",
              "      <td>17.260</td>\n",
              "    </tr>\n",
              "    <tr>\n",
              "      <th>16</th>\n",
              "      <td>12.9</td>\n",
              "      <td>12.715</td>\n",
              "    </tr>\n",
              "    <tr>\n",
              "      <th>17</th>\n",
              "      <td>21.5</td>\n",
              "      <td>21.668</td>\n",
              "    </tr>\n",
              "    <tr>\n",
              "      <th>18</th>\n",
              "      <td>22.1</td>\n",
              "      <td>21.819</td>\n",
              "    </tr>\n",
              "    <tr>\n",
              "      <th>19</th>\n",
              "      <td>20.9</td>\n",
              "      <td>19.431</td>\n",
              "    </tr>\n",
              "    <tr>\n",
              "      <th>20</th>\n",
              "      <td>17.4</td>\n",
              "      <td>20.045</td>\n",
              "    </tr>\n",
              "    <tr>\n",
              "      <th>21</th>\n",
              "      <td>7.2</td>\n",
              "      <td>7.310</td>\n",
              "    </tr>\n",
              "    <tr>\n",
              "      <th>22</th>\n",
              "      <td>7.6</td>\n",
              "      <td>7.124</td>\n",
              "    </tr>\n",
              "    <tr>\n",
              "      <th>23</th>\n",
              "      <td>10.9</td>\n",
              "      <td>10.504</td>\n",
              "    </tr>\n",
              "    <tr>\n",
              "      <th>24</th>\n",
              "      <td>10.6</td>\n",
              "      <td>11.369</td>\n",
              "    </tr>\n",
              "    <tr>\n",
              "      <th>25</th>\n",
              "      <td>17.1</td>\n",
              "      <td>18.548</td>\n",
              "    </tr>\n",
              "    <tr>\n",
              "      <th>26</th>\n",
              "      <td>10.4</td>\n",
              "      <td>10.652</td>\n",
              "    </tr>\n",
              "    <tr>\n",
              "      <th>27</th>\n",
              "      <td>15.0</td>\n",
              "      <td>15.039</td>\n",
              "    </tr>\n",
              "    <tr>\n",
              "      <th>28</th>\n",
              "      <td>7.2</td>\n",
              "      <td>7.738</td>\n",
              "    </tr>\n",
              "    <tr>\n",
              "      <th>29</th>\n",
              "      <td>24.2</td>\n",
              "      <td>24.950</td>\n",
              "    </tr>\n",
              "    <tr>\n",
              "      <th>30</th>\n",
              "      <td>11.3</td>\n",
              "      <td>11.749</td>\n",
              "    </tr>\n",
              "    <tr>\n",
              "      <th>31</th>\n",
              "      <td>13.6</td>\n",
              "      <td>13.923</td>\n",
              "    </tr>\n",
              "    <tr>\n",
              "      <th>32</th>\n",
              "      <td>13.7</td>\n",
              "      <td>11.659</td>\n",
              "    </tr>\n",
              "    <tr>\n",
              "      <th>33</th>\n",
              "      <td>10.3</td>\n",
              "      <td>11.731</td>\n",
              "    </tr>\n",
              "    <tr>\n",
              "      <th>34</th>\n",
              "      <td>17.4</td>\n",
              "      <td>18.278</td>\n",
              "    </tr>\n",
              "    <tr>\n",
              "      <th>35</th>\n",
              "      <td>17.0</td>\n",
              "      <td>17.960</td>\n",
              "    </tr>\n",
              "    <tr>\n",
              "      <th>36</th>\n",
              "      <td>20.2</td>\n",
              "      <td>18.549</td>\n",
              "    </tr>\n",
              "    <tr>\n",
              "      <th>37</th>\n",
              "      <td>11.8</td>\n",
              "      <td>12.032</td>\n",
              "    </tr>\n",
              "    <tr>\n",
              "      <th>38</th>\n",
              "      <td>17.9</td>\n",
              "      <td>17.427</td>\n",
              "    </tr>\n",
              "    <tr>\n",
              "      <th>39</th>\n",
              "      <td>12.4</td>\n",
              "      <td>11.904</td>\n",
              "    </tr>\n",
              "    <tr>\n",
              "      <th>40</th>\n",
              "      <td>23.8</td>\n",
              "      <td>23.144</td>\n",
              "    </tr>\n",
              "    <tr>\n",
              "      <th>41</th>\n",
              "      <td>17.6</td>\n",
              "      <td>16.741</td>\n",
              "    </tr>\n",
              "    <tr>\n",
              "      <th>42</th>\n",
              "      <td>14.6</td>\n",
              "      <td>14.285</td>\n",
              "    </tr>\n",
              "    <tr>\n",
              "      <th>43</th>\n",
              "      <td>18.9</td>\n",
              "      <td>19.541</td>\n",
              "    </tr>\n",
              "    <tr>\n",
              "      <th>44</th>\n",
              "      <td>18.4</td>\n",
              "      <td>17.560</td>\n",
              "    </tr>\n",
              "    <tr>\n",
              "      <th>45</th>\n",
              "      <td>10.4</td>\n",
              "      <td>11.319</td>\n",
              "    </tr>\n",
              "    <tr>\n",
              "      <th>46</th>\n",
              "      <td>9.7</td>\n",
              "      <td>9.915</td>\n",
              "    </tr>\n",
              "    <tr>\n",
              "      <th>47</th>\n",
              "      <td>19.6</td>\n",
              "      <td>19.676</td>\n",
              "    </tr>\n",
              "    <tr>\n",
              "      <th>48</th>\n",
              "      <td>19.8</td>\n",
              "      <td>19.415</td>\n",
              "    </tr>\n",
              "    <tr>\n",
              "      <th>49</th>\n",
              "      <td>14.0</td>\n",
              "      <td>11.884</td>\n",
              "    </tr>\n",
              "    <tr>\n",
              "      <th>50</th>\n",
              "      <td>17.5</td>\n",
              "      <td>17.473</td>\n",
              "    </tr>\n",
              "    <tr>\n",
              "      <th>51</th>\n",
              "      <td>18.3</td>\n",
              "      <td>18.416</td>\n",
              "    </tr>\n",
              "    <tr>\n",
              "      <th>52</th>\n",
              "      <td>27.0</td>\n",
              "      <td>25.341</td>\n",
              "    </tr>\n",
              "    <tr>\n",
              "      <th>53</th>\n",
              "      <td>19.8</td>\n",
              "      <td>19.417</td>\n",
              "    </tr>\n",
              "    <tr>\n",
              "      <th>54</th>\n",
              "      <td>16.1</td>\n",
              "      <td>19.820</td>\n",
              "    </tr>\n",
              "    <tr>\n",
              "      <th>55</th>\n",
              "      <td>22.6</td>\n",
              "      <td>21.682</td>\n",
              "    </tr>\n",
              "    <tr>\n",
              "      <th>56</th>\n",
              "      <td>1.6</td>\n",
              "      <td>5.453</td>\n",
              "    </tr>\n",
              "    <tr>\n",
              "      <th>57</th>\n",
              "      <td>5.3</td>\n",
              "      <td>5.520</td>\n",
              "    </tr>\n",
              "    <tr>\n",
              "      <th>58</th>\n",
              "      <td>19.9</td>\n",
              "      <td>19.071</td>\n",
              "    </tr>\n",
              "    <tr>\n",
              "      <th>59</th>\n",
              "      <td>20.9</td>\n",
              "      <td>18.294</td>\n",
              "    </tr>\n",
              "  </tbody>\n",
              "</table>\n",
              "</div>"
            ],
            "text/plain": [
              "    Vendas Reais  Previsão\n",
              "0            8.7     9.039\n",
              "1           20.7    19.466\n",
              "2           18.0    18.898\n",
              "3           12.6     9.517\n",
              "4           11.3    10.738\n",
              "5           16.6    18.249\n",
              "6           16.9    17.093\n",
              "7           17.5    16.802\n",
              "8           20.7    21.368\n",
              "9           16.0    18.456\n",
              "10          10.1     9.766\n",
              "11          17.2    16.789\n",
              "12          16.7    16.129\n",
              "13          16.8    17.459\n",
              "14          20.6    18.219\n",
              "15          17.7    17.260\n",
              "16          12.9    12.715\n",
              "17          21.5    21.668\n",
              "18          22.1    21.819\n",
              "19          20.9    19.431\n",
              "20          17.4    20.045\n",
              "21           7.2     7.310\n",
              "22           7.6     7.124\n",
              "23          10.9    10.504\n",
              "24          10.6    11.369\n",
              "25          17.1    18.548\n",
              "26          10.4    10.652\n",
              "27          15.0    15.039\n",
              "28           7.2     7.738\n",
              "29          24.2    24.950\n",
              "30          11.3    11.749\n",
              "31          13.6    13.923\n",
              "32          13.7    11.659\n",
              "33          10.3    11.731\n",
              "34          17.4    18.278\n",
              "35          17.0    17.960\n",
              "36          20.2    18.549\n",
              "37          11.8    12.032\n",
              "38          17.9    17.427\n",
              "39          12.4    11.904\n",
              "40          23.8    23.144\n",
              "41          17.6    16.741\n",
              "42          14.6    14.285\n",
              "43          18.9    19.541\n",
              "44          18.4    17.560\n",
              "45          10.4    11.319\n",
              "46           9.7     9.915\n",
              "47          19.6    19.676\n",
              "48          19.8    19.415\n",
              "49          14.0    11.884\n",
              "50          17.5    17.473\n",
              "51          18.3    18.416\n",
              "52          27.0    25.341\n",
              "53          19.8    19.417\n",
              "54          16.1    19.820\n",
              "55          22.6    21.682\n",
              "56           1.6     5.453\n",
              "57           5.3     5.520\n",
              "58          19.9    19.071\n",
              "59          20.9    18.294"
            ]
          },
          "metadata": {
            "tags": []
          },
          "execution_count": 8
        }
      ]
    },
    {
      "cell_type": "markdown",
      "metadata": {
        "id": "bRNBNP6oNJPr"
      },
      "source": [
        "## Gráfico que compara os valores reais com as previsões"
      ]
    },
    {
      "cell_type": "code",
      "metadata": {
        "colab": {
          "base_uri": "https://localhost:8080/",
          "height": 265
        },
        "id": "rlupbMweNkIf",
        "outputId": "3d1298ad-6315-4f2a-ac21-80e47aa55260"
      },
      "source": [
        "sns.lineplot(data=df_comparacao)\n",
        "plt.show()"
      ],
      "execution_count": 9,
      "outputs": [
        {
          "output_type": "display_data",
          "data": {
            "image/png": "[encoded data removed]",
            "text/plain": [
              "<Figure size 432x288 with 1 Axes>"
            ]
          },
          "metadata": {
            "tags": [],
            "needs_background": "light"
          }
        }
      ]
    },
    {
      "cell_type": "markdown",
      "metadata": {
        "id": "FO40AF2lNTQu"
      },
      "source": [
        "## Tabela que mostra o índice de importância de cada meio para o modelo"
      ]
    },
    {
      "cell_type": "code",
      "metadata": {
        "colab": {
          "base_uri": "https://localhost:8080/",
          "height": 142
        },
        "id": "isegO-n0OViw",
        "outputId": "b579a3c9-3e7c-485b-b334-9aee652f38de"
      },
      "source": [
        "df_importancia=pd.DataFrame(randomforest.feature_importances_).reset_index().rename(columns={'index':'Meio de Comunicação',0:'Índice de importância para o modelo'})\n",
        "df_importancia['Meio de Comunicação']=['TV','Rádio','Jornal']\n",
        "df_importancia"
      ],
      "execution_count": 13,
      "outputs": [
        {
          "output_type": "execute_result",
          "data": {
            "text/html": [
              "<div>\n",
              "<style scoped>\n",
              "    .dataframe tbody tr th:only-of-type {\n",
              "        vertical-align: middle;\n",
              "    }\n",
              "\n",
              "    .dataframe tbody tr th {\n",
              "        vertical-align: top;\n",
              "    }\n",
              "\n",
              "    .dataframe thead th {\n",
              "        text-align: right;\n",
              "    }\n",
              "</style>\n",
              "<table border=\"1\" class=\"dataframe\">\n",
              "  <thead>\n",
              "    <tr style=\"text-align: right;\">\n",
              "      <th></th>\n",
              "      <th>Meio de Comunicação</th>\n",
              "      <th>Índice de importância para o modelo</th>\n",
              "    </tr>\n",
              "  </thead>\n",
              "  <tbody>\n",
              "    <tr>\n",
              "      <th>0</th>\n",
              "      <td>TV</td>\n",
              "      <td>0.851185</td>\n",
              "    </tr>\n",
              "    <tr>\n",
              "      <th>1</th>\n",
              "      <td>Rádio</td>\n",
              "      <td>0.137431</td>\n",
              "    </tr>\n",
              "    <tr>\n",
              "      <th>2</th>\n",
              "      <td>Jornal</td>\n",
              "      <td>0.011384</td>\n",
              "    </tr>\n",
              "  </tbody>\n",
              "</table>\n",
              "</div>"
            ],
            "text/plain": [
              "  Meio de Comunicação  Índice de importância para o modelo\n",
              "0                  TV                             0.851185\n",
              "1               Rádio                             0.137431\n",
              "2              Jornal                             0.011384"
            ]
          },
          "metadata": {
            "tags": []
          },
          "execution_count": 13
        }
      ]
    }
  ]
}